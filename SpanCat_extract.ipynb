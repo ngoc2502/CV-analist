{
 "cells": [
  {
   "cell_type": "code",
   "execution_count": 30,
   "metadata": {},
   "outputs": [],
   "source": [
    "from spacy.pipeline.spancat import DEFAULT_SPANCAT_MODEL\n",
    "from spacy.pipeline import SpanCategorizer\n",
    "from spacy.training import Example\n",
    "from spacy.tokens import SpanGroup\n",
    "import spacy\n",
    "import json"
   ]
  },
  {
   "cell_type": "code",
   "execution_count": 31,
   "metadata": {},
   "outputs": [],
   "source": [
    "train_data = json.load(open('./data_deep_extract/training/train_data.json','rb')) \n",
    "nlp = spacy.load(\"en_core_web_lg\")"
   ]
  },
  {
   "cell_type": "code",
   "execution_count": 32,
   "metadata": {},
   "outputs": [],
   "source": [
    "nlp=spacy.blank('en')\n",
    "# nlp_spancat=spacy.load(\"spancat_model\")\n",
    "config = {\n",
    "    \"threshold\": 0.5,\n",
    "    \"spans_key\": \"labeled_spans\",\n",
    "    \"max_positive\": None,\n",
    "    \"model\": DEFAULT_SPANCAT_MODEL,\n",
    "    \"suggester\": {\"@misc\": \"spacy.ngram_suggester.v1\", \"sizes\": [1, 2, 3]},\n",
    "}\n",
    "\n",
    "if 'spancat' not in nlp.pipe_names:\n",
    "    spancat=nlp.create_pipe('spancat')\n",
    "    nlp.add_pipe('spancat',config=config)\n",
    "\n"
   ]
  },
  {
   "cell_type": "code",
   "execution_count": 33,
   "metadata": {},
   "outputs": [],
   "source": [
    "for _,annotations in train_data:\n",
    "    for ent in annotations['entities']:\n",
    "        spancat.add_label(ent[2])\n",
    "        \n",
    "other_pipes=[pipe for pipe in nlp.pipe_names if pipe !='spancat']"
   ]
  },
  {
   "cell_type": "code",
   "execution_count": null,
   "metadata": {},
   "outputs": [],
   "source": [
    "# nlp.pipe_names\n",
    "spancat.labels "
   ]
  },
  {
   "cell_type": "code",
   "execution_count": null,
   "metadata": {},
   "outputs": [],
   "source": [
    "from numpy import random\n",
    "with nlp.disable_pipes(*other_pipes):\n",
    "    optimizer = nlp.begin_training()\n",
    "    for batch in spacy.util.minibatch(train_data,size=2):\n",
    "        random.shuffle(train_data)\n",
    "        index=0\n",
    "        losses={}\n",
    "\n",
    "        for txt,annotation in batch:\n",
    "            doc =nlp.make_doc(txt)        \n",
    "            example = Example.from_dict(doc,annotation)\n",
    "            spancat.initialize()\n",
    "            \n",
    "            try:\n",
    "                losses=spancat.update(\n",
    "                [example],\n",
    "                sgd=optimizer,\n",
    "                drop=0.2)\n",
    "                print(losses)\n",
    "            except Exception as e:\n",
    "                print(e)"
   ]
  }
 ],
 "metadata": {
  "kernelspec": {
   "display_name": "Python 3.9.13 64-bit (microsoft store)",
   "language": "python",
   "name": "python3"
  },
  "language_info": {
   "codemirror_mode": {
    "name": "ipython",
    "version": 3
   },
   "file_extension": ".py",
   "mimetype": "text/x-python",
   "name": "python",
   "nbconvert_exporter": "python",
   "pygments_lexer": "ipython3",
   "version": "3.9.13"
  },
  "orig_nbformat": 4,
  "vscode": {
   "interpreter": {
    "hash": "231b793e72510f63263cf75731d759da8776d8c74c3ed2dbefa0f0827e58fa6e"
   }
  }
 },
 "nbformat": 4,
 "nbformat_minor": 2
}
