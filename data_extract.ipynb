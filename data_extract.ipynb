{
 "cells": [
  {
   "cell_type": "code",
   "execution_count": 182,
   "metadata": {},
   "outputs": [],
   "source": [
    "from PyPDF2 import PdfFileReader\n",
    "import os\n",
    "import json\n",
    "import pandas as pd"
   ]
  },
  {
   "cell_type": "markdown",
   "metadata": {},
   "source": [
    "Extract information from pdf file"
   ]
  },
  {
   "cell_type": "code",
   "execution_count": 134,
   "metadata": {},
   "outputs": [],
   "source": [
    "def extract_pdf(path):\n",
    "    pdf=PdfFileReader(path)\n",
    "    number_pages=pdf.getNumPages()\n",
    "    content=''\n",
    "    for i in range(number_pages):\n",
    "        content+=pdf.getPage(i).extractText()\n",
    "    \n",
    "    content=content.replace('\\\\n',' ').replace('\\n\\n',' ')\n",
    "    content=content.replace('\\n',' ')\n",
    "    content=content.replace('\\t',' ')\n",
    "    \n",
    "    return content"
   ]
  },
  {
   "cell_type": "markdown",
   "metadata": {},
   "source": [
    "Get path to each pdf file stored in folder  "
   ]
  },
  {
   "cell_type": "code",
   "execution_count": 135,
   "metadata": {},
   "outputs": [],
   "source": [
    "\n",
    "def get_path_pdf(path_folder):\n",
    "    path_pdf=[]\n",
    "    for dirname,_,filenames in os.walk(path_folder):\n",
    "        for filename in filenames:\n",
    "            path_pdf.append(os.path.join(dirname,filename))\n",
    "    return path_pdf\n"
   ]
  },
  {
   "cell_type": "markdown",
   "metadata": {},
   "source": [
    "Read JD"
   ]
  },
  {
   "cell_type": "code",
   "execution_count": 136,
   "metadata": {},
   "outputs": [],
   "source": [
    "path_JD=\"./JD/\"\n",
    "path_2_pdfJD=get_path_pdf(path_JD)\n",
    "content_JD=extract_pdf(path_2_pdfJD[0])\n"
   ]
  },
  {
   "cell_type": "markdown",
   "metadata": {},
   "source": [
    "Read CV"
   ]
  },
  {
   "cell_type": "code",
   "execution_count": 137,
   "metadata": {},
   "outputs": [],
   "source": [
    "path_CV=\"./CV/\"\n",
    "path_2_pdfCV=get_path_pdf(path_CV)\n",
    "content_CV=[]\n",
    "for p in path_2_pdfCV:\n",
    "    content_CV.append(extract_pdf(p))\n"
   ]
  },
  {
   "cell_type": "markdown",
   "metadata": {},
   "source": [
    "Using Spacy to extract skill"
   ]
  },
  {
   "cell_type": "code",
   "execution_count": 158,
   "metadata": {},
   "outputs": [],
   "source": [
    "from spacy.pipeline import EntityRuler\n",
    "from spacy import displacy\n",
    "import jsonlines\n",
    "import spacy\n",
    "import re \n",
    "import pyperclip\n",
    "from sympy import true"
   ]
  },
  {
   "cell_type": "code",
   "execution_count": 139,
   "metadata": {},
   "outputs": [],
   "source": [
    "json_path=\"skill_paterns.jsonl\"\n",
    "\n",
    "with jsonlines.open(json_path) as f:\n",
    "    entities=[line[\"label\"].upper() for line in f.iter()]\n",
    "\n",
    "# spacy model\n",
    "nlp=spacy.load(\"en_core_web_lg\")"
   ]
  },
  {
   "cell_type": "code",
   "execution_count": null,
   "metadata": {},
   "outputs": [],
   "source": [
    "ruler = nlp.add_pipe(\"entity_ruler\")\n",
    "ruler.from_disk(json_path)"
   ]
  },
  {
   "cell_type": "markdown",
   "metadata": {},
   "source": [
    "PERSONAL INFORMATION"
   ]
  },
  {
   "cell_type": "code",
   "execution_count": 181,
   "metadata": {},
   "outputs": [],
   "source": [
    "mail = re.compile(r'[a-zA-Z0-9-\\.]+@[a-zA-Z-\\.]*\\.(com|edu|net)')\n",
    "git = re.compile(r'(gitlab.com/|github.com/)+[a-zA-Z0-9-\\.]*')\n",
    "web = re.compile(r'(http://|https:// )+[a-zA-Z0-9-\"/\"-\\.]*')\n",
    "linkedin = re.compile(r'linkedin.com/+[a-zA-Z0-9-\"/\"-\\.]*')\n",
    "\n",
    "def get_skill(doc):\n",
    "    skill_list=[]\n",
    "    for ent in doc.ents:\n",
    "        if ent.label_=='SKILL':\n",
    "            skill_list.append(ent.text)\n",
    "    skill_list=list(set(skill_list))\n",
    "    return skill_list\n",
    "\n",
    "def get_GPA(doc):\n",
    "    sent=list(doc.sents)\n",
    "    gpa=''\n",
    "    for s in sent:\n",
    "        s=s.text\n",
    "        if s.find('GPA') !=-1 :\n",
    "            gba_pos= s.find('GPA') \n",
    "            for i in range (gba_pos+3,gba_pos+8):\n",
    "                if (s[i] >'0' and s[i]<'9' or s[i]=='.'):\n",
    "                    gpa+=s[i]\n",
    "    return gpa\n",
    "\n",
    "def get_experience(doc):\n",
    "    '''\n",
    "    Return\\n\n",
    "        None if no experience\\n\n",
    "        List of experience if exist\n",
    "    '''\n",
    "    sent=list(doc.sents)\n",
    "    final_res=''\n",
    "    ex=[]\n",
    "    for s in sent:\n",
    "        s_text=s.text.split(' ')\n",
    "        flag=False\n",
    "        for i in s_text:\n",
    "            i=i.lower()\n",
    "            if i=='experience':\n",
    "                flag=True\n",
    "        if flag==True:\n",
    "            ex.append([s.text])\n",
    "    if (len(ex)==0):\n",
    "        final_res=None\n",
    "    else:\n",
    "        final_res=ex\n",
    "    return final_res\n",
    "\n",
    "def get_education(doc):\n",
    "    sent=list(doc.sents)\n",
    "    edu=''\n",
    "    pos_edu=-1\n",
    "    for s in sent:\n",
    "        s_text=s.text.lower()\n",
    "        flag=False\n",
    "        if s_text.find('education')!=-1 or s_text.find('university')!=-1:\n",
    "            edu =s.text\n",
    "            if s_text.find('education')!=-1:\n",
    "                pos_edu=s_text.find('education')\n",
    "            else:\n",
    "                pos_edu=s_text.find('university')\n",
    "            \n",
    "            edu=edu[pos_edu+10:]\n",
    "    return edu\n",
    "\n",
    "def get_phone(content_CV):\n",
    "    '''\n",
    "    Format for Phone-Numbers:\n",
    "    134567890\n",
    "    123-456-7890\n",
    "    (123)(456)(7890)\n",
    "    123.456.7890\n",
    "    (123)(456-7890)\n",
    "    '''\n",
    "    phone= re.compile(r'''\n",
    "        (\\d{3}|\\(\\d{3}\\))    \n",
    "        (\\s|-|\\.)?           \n",
    "        (\\d{3}|\\(\\d{3}\\))    \n",
    "        (\\s|-|\\.)?           \n",
    "        (\\d{4}|\\(\\d{4}\\))    \n",
    "    ''', re.VERBOSE) \n",
    "    matchs=phone.finditer(content_CV)\n",
    "    res = ''\n",
    "    for match in matchs:\n",
    "        res+=match.group(0)\n",
    "    if res=='':\n",
    "        print(content_CV)\n",
    "    return res\n",
    "\n",
    "def get_link(link,content_CV):\n",
    "    matchs=link.finditer(content_CV)\n",
    "    res=''\n",
    "    for match in matchs:\n",
    "        res+=match.group(0)\n",
    "    return res\n",
    "\n",
    "\n",
    "# print(get_GPA(doc))       \n",
    "# print(get_experience(doc))\n",
    "# print()\n",
    "# print(get_education(doc))\n",
    "\n",
    "# print(get_link(web,test))\n",
    "# print(get_link(git,test))\n",
    "# print(get_link(linkedin,test))\n",
    "# print(get_link(mail,test))\n",
    "\n",
    "# get_phone(content_CV[0])"
   ]
  },
  {
   "cell_type": "markdown",
   "metadata": {},
   "source": [
    "NAME"
   ]
  },
  {
   "cell_type": "code",
   "execution_count": null,
   "metadata": {},
   "outputs": [],
   "source": [
    "from spacy.matcher import Matcher\n",
    "# initialize matcher with a vocab\n",
    "\n",
    "def extract_name(content_CV):\n",
    "    matcher = Matcher(nlp.vocab)\n",
    "    doc=nlp(content_CV)\n",
    "    for ent in doc.ents:\n",
    "        print(ent.label_,'  ',ent.text)\n",
    "        if ent.label_=='PERSON':\n",
    "            # print(ent.label_,'  ',ent.text)\n",
    "            return(ent.text)\n",
    "            \n",
    "    # First name and Last name are always Proper Nouns\n",
    "    pattern = [{'POS': 'PROPN'},{'POS': 'PROPN'},{'POS': 'PROPN'}]\n",
    "    matcher.add('NAME',[pattern])\n",
    "    matches = matcher(doc)\n",
    "    for match_id, start, end in matches:\n",
    "        span = doc[start:end]\n",
    "        return span.text\n",
    "extract_name(content_CV[1])"
   ]
  },
  {
   "cell_type": "markdown",
   "metadata": {},
   "source": [
    "Check Accuracy of name"
   ]
  },
  {
   "cell_type": "code",
   "execution_count": null,
   "metadata": {},
   "outputs": [],
   "source": [
    "train_data = json.load(open('./data/training/train_data.json','rb')) \n",
    "\n",
    "def name_acc(train_data):\n",
    "    list_an=[]\n",
    "    list_txt=[]\n",
    "    name=[]\n",
    "\n",
    "    for text,annotation in train_data:\n",
    "        list_an.append(list(annotation.values()))\n",
    "        list_txt.append(text)\n",
    "\n",
    "    target_name=[]\n",
    "    predic_name=[]\n",
    "\n",
    "    similar=0\n",
    "    for i in range(len(list_an)):\n",
    "        t=''\n",
    "        p=''\n",
    "        p=extract_name(list_txt[i])\n",
    "        predic_name.append(p)\n",
    "        for j in range(len(list_an[i][0])):\n",
    "            if list_an[i][0][j][2]=='Name':\n",
    "                t=list_txt[i][list_an[i][0][j][0]:list_an[i][0][j][1]]\n",
    "                target_name.append(t)\n",
    "        if t==p:\n",
    "            similar+=1\n",
    "    return (similar/len(list_an)*100)    \n",
    "name_acc(train_data)"
   ]
  },
  {
   "cell_type": "code",
   "execution_count": null,
   "metadata": {},
   "outputs": [],
   "source": [
    "def extract_all_data(list_content_CV):\n",
    "    "
   ]
  },
  {
   "cell_type": "code",
   "execution_count": 186,
   "metadata": {},
   "outputs": [
    {
     "data": {
      "text/html": [
       "<div>\n",
       "<style scoped>\n",
       "    .dataframe tbody tr th:only-of-type {\n",
       "        vertical-align: middle;\n",
       "    }\n",
       "\n",
       "    .dataframe tbody tr th {\n",
       "        vertical-align: top;\n",
       "    }\n",
       "\n",
       "    .dataframe thead th {\n",
       "        text-align: right;\n",
       "    }\n",
       "</style>\n",
       "<table border=\"1\" class=\"dataframe\">\n",
       "  <thead>\n",
       "    <tr style=\"text-align: right;\">\n",
       "      <th></th>\n",
       "      <th>ID</th>\n",
       "      <th>name</th>\n",
       "      <th>email</th>\n",
       "      <th>phone number</th>\n",
       "      <th>related link</th>\n",
       "      <th>Skill</th>\n",
       "      <th>experience</th>\n",
       "      <th>education</th>\n",
       "    </tr>\n",
       "  </thead>\n",
       "  <tbody>\n",
       "  </tbody>\n",
       "</table>\n",
       "</div>"
      ],
      "text/plain": [
       "Empty DataFrame\n",
       "Columns: [ID, name, email, phone number, related link, Skill, experience, education]\n",
       "Index: []"
      ]
     },
     "execution_count": 186,
     "metadata": {},
     "output_type": "execute_result"
    }
   ],
   "source": [
    "label=['ID','name','email','phone number','related link','Skill','experience','education']\n",
    "df_information = pd.DataFrame(columns=label) \n",
    "df_information"
   ]
  },
  {
   "cell_type": "markdown",
   "metadata": {},
   "source": [
    "Load accuracy name"
   ]
  },
  {
   "cell_type": "code",
   "execution_count": null,
   "metadata": {},
   "outputs": [],
   "source": [
    "nlp_model=spacy.load('nlp_model')"
   ]
  },
  {
   "cell_type": "markdown",
   "metadata": {},
   "source": [
    "Using sklearn to calculate the cosine similarity score of CV and JD"
   ]
  },
  {
   "cell_type": "code",
   "execution_count": 147,
   "metadata": {},
   "outputs": [],
   "source": [
    "from sklearn.feature_extraction.text import CountVectorizer\n",
    "from sklearn.metrics.pairwise import cosine_similarity"
   ]
  },
  {
   "cell_type": "code",
   "execution_count": null,
   "metadata": {},
   "outputs": [],
   "source": [
    "# def cosine_similarity(list_CV,JD):\n",
    "#     test=[list_CV]\n",
    "test=[content_CV,content_JD]\n",
    "count_matrix=cv.fit_transform(test)\n",
    "cosine_similarity(count_matrix)"
   ]
  },
  {
   "cell_type": "code",
   "execution_count": 178,
   "metadata": {},
   "outputs": [
    {
     "data": {
      "text/plain": [
       "0.4040562886306343"
      ]
     },
     "execution_count": 178,
     "metadata": {},
     "output_type": "execute_result"
    }
   ],
   "source": [
    "test=[content_CV[4],content_JD]\n",
    "count_matrix=cv.fit_transform(test)\n",
    "match=cosine_similarity(count_matrix)\n",
    "match[0][1]"
   ]
  },
  {
   "cell_type": "code",
   "execution_count": 149,
   "metadata": {},
   "outputs": [
    {
     "data": {
      "text/plain": [
       "<2x244 sparse matrix of type '<class 'numpy.int64'>'\n",
       "\twith 244 stored elements in Compressed Sparse Row format>"
      ]
     },
     "execution_count": 149,
     "metadata": {},
     "output_type": "execute_result"
    }
   ],
   "source": [
    "count_matrix"
   ]
  }
 ],
 "metadata": {
  "kernelspec": {
   "display_name": "Python 3.9.13 64-bit (microsoft store)",
   "language": "python",
   "name": "python3"
  },
  "language_info": {
   "codemirror_mode": {
    "name": "ipython",
    "version": 3
   },
   "file_extension": ".py",
   "mimetype": "text/x-python",
   "name": "python",
   "nbconvert_exporter": "python",
   "pygments_lexer": "ipython3",
   "version": "3.9.13"
  },
  "orig_nbformat": 4,
  "vscode": {
   "interpreter": {
    "hash": "231b793e72510f63263cf75731d759da8776d8c74c3ed2dbefa0f0827e58fa6e"
   }
  }
 },
 "nbformat": 4,
 "nbformat_minor": 2
}
