{
 "cells": [
  {
   "cell_type": "code",
   "execution_count": 1,
   "metadata": {},
   "outputs": [],
   "source": [
    "from PyPDF2 import PdfFileReader\n",
    "import os\n",
    "import json\n",
    "import pandas as pd"
   ]
  },
  {
   "cell_type": "markdown",
   "metadata": {},
   "source": [
    "Extract information from pdf file"
   ]
  },
  {
   "cell_type": "code",
   "execution_count": 2,
   "metadata": {},
   "outputs": [],
   "source": [
    "def extract_pdf(path):\n",
    "    pdf=PdfFileReader(path)\n",
    "    number_pages=pdf.getNumPages()\n",
    "    content=''\n",
    "    for i in range(number_pages):\n",
    "        content+=pdf.getPage(i).extractText()\n",
    "    \n",
    "    content=content.replace('\\n','. ').replace('\\n\\n','. ')\n",
    "    content=content.replace('\\t',' ')\n",
    "    \n",
    "    return content"
   ]
  },
  {
   "cell_type": "markdown",
   "metadata": {},
   "source": [
    "Get path to each pdf file stored in folder  "
   ]
  },
  {
   "cell_type": "code",
   "execution_count": 3,
   "metadata": {},
   "outputs": [],
   "source": [
    "\n",
    "def get_path_pdf(path_folder):\n",
    "    path_pdf=[]\n",
    "    for dirname,_,filenames in os.walk(path_folder):\n",
    "        for filename in filenames:\n",
    "            path_pdf.append(os.path.join(dirname,filename))\n",
    "    return path_pdf\n"
   ]
  },
  {
   "cell_type": "markdown",
   "metadata": {},
   "source": [
    "Read JD"
   ]
  },
  {
   "cell_type": "code",
   "execution_count": 4,
   "metadata": {},
   "outputs": [],
   "source": [
    "path_JD=\"./static/files_JD/\"\n",
    "path_2_pdfJD=get_path_pdf(path_JD)\n",
    "content_JD=extract_pdf(path_2_pdfJD[0])\n"
   ]
  },
  {
   "cell_type": "markdown",
   "metadata": {},
   "source": [
    "Read CV"
   ]
  },
  {
   "cell_type": "code",
   "execution_count": 31,
   "metadata": {},
   "outputs": [
    {
     "data": {
      "text/plain": [
       "['Curriculum Vitae. Ayush Pandey. Current Address: Plot No. 122/650, Shastri Nagar, Kanpur, Uttar Pradesh -. 208005 INDIA.. Permanent Address:  Plot No. 122/650, Shastri Nagar, Kanpur, Uttar Pradesh -. 208005 INDIA.. Passport No.: M8103020                                           Place of Issue: Lucknow. Expiry Date     :   30/03/2025.  shub.pandey7@yahoo.in. +91-8765599273. +91-8115031253. Objective:. Challenging and rewarding suitable position in a growth-oriented organization, this offers diverse job responsibility in. Mechanical Engineering, New Product Introduction and will fully utilize my technical and managerial skills.. Education Qualification:. \\uf076Bachelor in Mechanical Engineering, Seth Sriniwas Agarwal Institute of Engineering & Technology (U.P.T.U) ,. Kanpur 2013.             Awarded – (71.7%) First Class. \\uf076Completed XIIth standard in the year 2009 from Sardar Patel Inter College , Kanpur (U.P Board). Awarded – (64.5%) First Class. \\uf076Completed  Xth  standard in the year 2007 from  Ram Krishana Mission Higher Secondary School , Kanpur. (U.P Board). Awarded – (71%) First Class. Employment History:. Frontier Alloy Steels Ltd., Kanpur, U.P-INDIA. Design & Development Engineer in D&D Deptt., June 2013- Present. \\uf076Understand and Study the complete component drawings.. \\uf076Developing 3D Modelling and 2D drawings (with GD&T) of component and pattern.. \\uf076Finite Element Analysis for stress, strain and deformation analysis with the help of ANSYS software.. \\uf076Casting Simulation to solve methoding and find out defects like shrinkage through ProCAST software before . production.. \\uf076Reverse Engineering Process.. \\uf076Machining inspection.. \\uf076Inspection of the products.. \\uf076Defect analysis and then implement the ways to minimize present defect within short time.. \\uf076Process planning & execution.. \\uf076To lead the shop floor as per requirement. (When products are under development Deptt.). \\uf076Maintain all the records as per international standards.. \\uf076To develop different types of components. . Ayush Pandey                            +91-8765599273            shub.pandey7@yahoo.in                    Page. 1 of 3\\uf076Special Purpose Machine to remove burs from sharp corner edges after machining.. Software Skill: Having Strong command on below given software for computer aided designing.. \\uf076CATIA* for 3D Modeling (Part/Assembly) and Drafting both.. \\uf076ProCAST* for Casting Simulation to detect shrinkage, air entrapment & molten metal flow.. \\uf076UG-NX* for 3D Modeling (Part/Assembly), Drafting & further analysis.. \\uf076Solid-Works* for 3D Modeling (Part/Assembly/Drafting).. \\uf076ANSYS* knowledge for Finite Element Analysis (Structural Analysis).. \\uf076SolidCAM* basic knowledge for machining.. \\uf076AutoCAD*, AviCAD* for Drafting.. \\uf076Reverse Engineering.. \\uf076Diploma in computer application.                                                                       . Technical Skill:. \\uf076Excellent Skills in Designing (2D Drawings & 3D models).. \\uf076Excellent Skills in Casting Manufacturing Process.. \\uf076Pipe Designing. \\uf076Reverse Engineering. \\uf076Computer Aided Designing. \\uf076Good presenter.. \\uf076Plant layout design & development. \\uf076Process Planning, Facility planning & documentations. \\uf076Project management, risk management, lesson learning and implementation. \\uf076Machine Specification and finalization . Summer Internship:. \\uf076Summer internship in  POWER GRID CORPORATION OF INDIA LIMITED of one month in 2011.. \\uf076Summer internship in  P.W.D of one month in 2012.. \\uf076Summer internship in  FRONTIER SPRING PVT LTD. on topic Manufacturing of Hot Coiled Helical . Springs of one month in 2012 .. Major Projects:. \\uf076Current industrial project on  “Coupler/Knuckle”, which are also using in wagons (Industrial Project, . Sep-2014) (5 Team Members). \\uf076Role: In this project I did all the designing & developing part of components such as drafting, 3D . modeling, Casting Simulation for defect free casting, Quality proof casting & Documentation. . \\uf076Industrial Project on “ Draft Gear SL-76”,  which are using in wagons (Industrial Project, Nov-2013).. \\uf076Role: In this project I lead the designing portion for this product. (5 Team Members). \\uf076AUTOMATED FLEXIALBE TRANSFER LINE (College Project, March-2013). \\uf076Role: In this project I completed all the designing part such as 2D-Drawings, 3D-Modeling.                     . (3 Team Members). \\uf076Running Project- Coach Coupler with Balanced Draft Gear .. Ayush Pandey                            +91-8765599273            shub.pandey7@yahoo.in                    Page. 2 of 3Balanced Draft Gear is such type of shock absorber, who sucks the load in buff mode, and when the draw . mode starts, it releases the absorber energy. i.e. It works on both draw and buff mode. Using in LHB . Coaches. (7 Team Members). Personal:. Father’s Name    :    Mr. Bal Krishna Pandey. Date of Birth          : 26 October 1992. Place of Birth         : Kanpur, U.P, India. Marital Status        : Unmarried. Interests                  : Sound Engineering, Travelling, Singing. Languages:      .  . \\uf076English . \\uf076Hindi. Social Responsibility:  Eco friendly practices.. Strength:. \\uf076Confidence. \\uf076Good Communication. \\uf076Positive Attitude. \\uf076Good Listener & Good Speaker. \\uf076Ability to established understanding in between team members for better future of both employees and organisation.. Principles:. \\uf076Honest & Smart/Hard Working. Declaration:. I hereby declare that all the information mentioned above is true of my knowledge and I’ll work with full dedication and. will help in raising the company.. Date: 20/May/2015. Place: Kanpur-U.P                                                                                  (AYUSH PANDEY). Ayush Pandey                            +91-8765599273            shub.pandey7@yahoo.in                    Page. 3 of 3Ayush Pandey                            +91-8765599273            shub.pandey7@yahoo.in                    Page. 4 of 3',\n",
       " 'Arockia Juslin Deepan. Dubai, UAE . Mobile: 971558058375. Email: deepaneee2010@gmail.com. OBJECTIVE. Seeking a position as  Project Engineer with a reputed organization where I can contribute and . utilize my knowledge & skills for mutual growth.. PROFESSIONAL SUMMARY. o7+ years of experience as Electrical Engineer in UAE & India.. oPossess valid UAE driving licence. oRegistered member in Society of engineering . oThrough expertise in projects- electrical engineering, installation of conduits, cables etc.. oOrganized knowledge in project coordination, proposal submission, BOQ, RFIs, PCRs . oHave thorough knowledge on MEP electrical installation . oPossess analytic knowledge on Architecture and Electrical design . oHave well organised knowledge in Facility Management, high rise building facility and . maintenance operation, system and equipment’s maintenance. . oPossess the enough knowledge in HV maintenance & Operations @ 11KV Substation . oHave good knowledge about the LV panels erection @ 11kV Substation. oHold a Bachelor of Engineering (BE) in electrical & Electronics.. oHold a Diploma in AutoCAD.. oSelf-motivated, comfortable in taking initiative and working independently.. oCan work under pressure and meet deadlines.. oExcellent communication skills in English, Hindi, Tamil& Malayalam.. PROFESSIONAL EXPERIENCE. Project Handled. PV PROJECTS . PV Bridges and shooters, 4.3 MWp KAME, Makkah, Saudi Arabia . CONSTRUCTION . Mataf lighting & Shamiyah Expansion KAME, Makkah, Saudi Arabia . LV 11 KV substation  ( ATS & LV Panel . Installation)Power tech, Chennai, India . FACILITY AND MAINTENANCE . 18 Storied x 2,  high rise tower Damac Properties, Business bay, Dubai . 30 storied high rise tower (Manchester tower) Dubai Marina, Dubai . 10 storied commercial tower ( Al khor plaza) Bin Tamim, Al khor, Dubai . 40 Storied high rise tower, O2 residence Open eye,  JLT , Dubai . G+2 x 18 Building , Jwin Staff Accomodation IDAMA, Muhaisna-2, Dubai . 10 Storied x 2 commercial tower CBRE, Chennai, India . Current Position: Project engineer- Electrical. Employer           : Premier composite technology (DIP-2, Dubai). Tenure                : February-2015 to still working . Responsibilities: . \\uf076Monitor compliance to applicable codes, practices, QA/QC policies, . performance standards and specifications.. \\uf076Interact daily with the clients to interpret their needs and requirements and . represent them in the field.. \\uf076Review tender package, plans/drawings to make sure accuracy, completeness . and conduct site inspection, check matching tenders.. \\uf076Compare the electrical/architectural project plans design whether matching with. tender specs, prior to the site installation.. \\uf076Coordinate site works include cable pulling, installing conduits, installation of . boxes, monitor electrical panel erection.. \\uf076Perform overall quality control of the work schedule, plans, and report regularly. on project status.. \\uf076Cooperate and communicate effectively with project managers and other project. participants to provide assistance and technical support.. \\uf076Planning to find out solution for unexpected errors as they occur in the site.. \\uf076Analyse the design and material proposals, matching to the international . standards . \\uf076Prepare project technical proposals and coordinate approvals and permits, prior . to installation at the site, make sure the standards followed . \\uf076Make clarification to the comments on the material submission to the . consultants . \\uf076Raise RFIs for the unclear task in the projects and make sure, all norms . followed based on tender specs . \\uf076Coordinate with sub-contractors and supplier for the right type of materials, . which match international standards and tender specs . \\uf076Attending technical &MEP meeting discussing the progressive of the project . architecture and electrical design. . \\uf076Creating the Bill of Quantities (BOQ). \\uf076Raise the project change request (PCR) if necessary . \\uf076Schedule meeting with supplier to discuss about the material’s quality and . supply . \\uf076Pre checking installation electrical luminaires in the factory . Position held: MEP / Facility Engineer. Employer     :  Palmon Group of companies (Jabel Ali, Dubai). Tenure          :  January 2013 to January 2015. Responsibilities:. \\uf0a7Attending technical & progress review meetings with client/consultant to discuss about . the project progress and bottleneck, if any.. \\uf0a7Prepare the project proposal analysing the equipment’s and loads and man power . calculating for the successful operation \\uf0a7Able to demonstrate skills and knowledge in installation and servicing MEP assets and . mechanical equipment.. \\uf0a7 Interpreting HVAC, Electrical, Plumbing, Mechanical, BMS and Electronics system, and. replacing faulty operational and safety control systems and spare parts. . \\uf0a7Planning to Troubleshoot day today building operations, engineering and systems and . equipment maintenance, total MEP operation. . \\uf0a7Verify the load schedule and alter that as per the (Future load) requirements, following . DEWA codes and regulation for the new installation on the existing system. . \\uf0a7Monitor  job  sites,  one  time  projects  assuring  safety  measures  following  the  risk. assessment and the method of statement, technical data. . \\uf0a7Interact/work well with tenants, professional staff, vendors, subcontractors, laborers, craft. persons and other workers to carry out daily maintenance in the buildings . \\uf0a7Ensure that contractor understands the contract documents including drawings / specs, . phase plans, MEP systems interrelationships, workflow & schedule. \\uf0a7Coordinate with consultant on reviews for shop drawings, MEP related designs, HVAC, . Fire Alarm / Fighting & provide solution options. \\uf0a7Perform the tasks of preparing reports on daily activities, work progress, weekly, monthly. facility management,  accidents and material report. \\uf0a7Ensure MEP Subcontractors adhere with relevant Quality records /regulations including . safety. \\uf0a7Monitor & report MEP work progress. \\uf0a7Review drawings submitted by main contractor & verify bill of quantities. \\uf0a7Review contractor monthly progress valuation of MEP work prior to invoicing. \\uf0a7Verify contractor valuation invoices. Position held: Shift Engineer-Electrical . Employer        :CBRE -Goms Electrical Company, India . Tenure            :  November 2011– October 2012. Responsibilities:. \\uf076Troubleshooting in maintenance of electrical systems which include Diesel . Generators(2250KVA & 1010KVA), Transformers(2000KVA two no’s at  11KV/105A . 433V/2667A substation), LV & HV switch gears VFD, UPS & lighting control in high . rise building . \\uf076Daily, weekly and monthly maintenance on Generators including, performing PPM on . scheduled basis . \\uf076B Check performance on Generator on every 300 hours running basis . \\uf076Semi synchronizing of multi diesel generator in the time of power failure . \\uf076Trial run on DG operation and performance on daily basis . \\uf076Transformer monitoring and maintenance on daily and monthly schedules . \\uf076VCB monitoring and performance analysis on daily basis and maintenance in schedules hours  . \\uf076Trouble shooting the break downs in lighting control circuits. \\uf076PPM on switch gears and HV & LV equipment’s based on scheduled hours . \\uf076UPS and Inverter operation monitoring and maintenance  . \\uf076Duties will be at the Tower handling the day to day problems and looking after the . maintenance staff detailed at the tower MEP/ Electrical, sewage treatment plant.. \\uf076Troubleshooting problems related to Electrical and Electronic Equipment. \\uf076Identifying areas of obstruction/breakdowns and taking steps to rectify the equipment’s.. \\uf076Trial run on firefighting engines on every week \\uf076Submitting monthly/ weekly/ daily preventive and reactive maintenance report . \\uf076RO plant monitoring and maintenance . Position held   :  Site Engineer. Employer        :  Power tech Pvt ltd, India . Tenure            :  September 2010– August 2011. Responsibilities:  . \\uf0d8Analyse the architecture design drawing and planning the installation . \\uf0d8Studying the DWG and explaining the co-workers for the erection of the panels. \\uf0d8Monitor the installation team for the proper erection of LV Panels. \\uf0d8Quality check  after the installation of LV panels . \\uf0d8Torque test for the bus bars in the LV panels . \\uf0d8Cable termination in the LV panels as per the technical data  . ACADEMIC QUALIFICATION. \\uf0fcBachelor of Engineering (B.E) with first class in Electrical & Electronics from Anna. University, India(August 2006-April 2010).   TECHNICAL SKILLS. \\uf0a7Electrical Circuits. \\uf0a7Circuit Breakers. \\uf0a7Induction Motors. \\uf0a7Motor Starters. Technical Proficiency . \\uf0a7DCADD – AutoCAD. \\uf0a7Smart sheet application, Box application . \\uf0a7Microsoft office 2003, 2007 & 2010 open office . \\uf0a7Power point   & Photo Shop . Personal Details. Date of Birth, Age : 20th October 1985 . Nationality : Indian. Civil Status : Married . Visa Status : Employment Visa. Language Known : English, Hindi, Tamil, Malayalam',\n",
       " 'RESUME. Er.Mayank Singh. B.Tech(C.S.E.).            E-mail:mayanksingh759@gmail.com. Cell Phone:+91-9560408505. AIM:. To  work  in  a  professional  environment  wherein  I  get  to  prove  my  abilities  and. maximize opportunities to develop and implement programs and to communicate positive. ideas and images.. EDUCATIONAL QUALIFICATIONS. Course YearUniversity/BoardOGPA/. Percentage. B.Tech(Computer . Science and . Engineering)2010-2014C.S.A. University, Kanpur . (U.P),India6.63. (Class XII). 2010U.P. Board, Allahabad. S.M.L.K.I.C. (U.P),India64.2%. (Class X). 2008U.P.Board, Allahabad. S.V.M.I.C. (U.P),India68.5%. COMPUTER PROFICIENCY. \\uf0d8Languages: C, C++,Asp.NET, Microsoft SQL, networking.. \\uf0d8Software Known:  Adobe Photoshop, Microsoft visual studio.. \\uf0d8Operating System:  WINDOWS 8/7/Vista/XP. ACADEMIC INTERESTS. \\uf0d8Programming and Algorithmes, Operating system, Data Base Management Systems. LANGUAGES KNOWN. \\uf0d8Hindi (Mother tongue),. \\uf0d8 English.. EXTRA-CURRICULAR ACTIVITIES\\uf0d8Attended Tow day workshop on EI SYSTEMS CLOUD COMPUTING . TECHNOLOGIST (Level-1) at ABV-IIITM, Gwalior.. \\uf0d8Attended workshop on DRUPAL at ABV-IIITM, Gwalior.. \\uf0d8Participated in various Quizzes& Debate competitions .. \\uf0d8Participated in UDGAM Techfest.. PROJECTS/TRAINING. \\uf0d8Completed one month summer training At APTECH COMPUTER EDUCATION  . on Web application designing using Asp.Net.. \\uf0d8Completed my six week Training at DATA POINT (Kanpur, India) in . “PROGRAMMING IN C” .. \\uf0d8Final year Project “ STUDY OF SWARM INTELLIGENCE BASED ON . QUADROTOR AS TESTBED” .. HOBBIES . \\uf0d8Surfing net, Travelling and observing people, Swimming, Watching Movies.. PERSONAL DETAILS. Date of birth :       15 July, 1993. Father’s Name : Mr. Narendra Bahadur Singh. Nationality : Indian. Gender : Male. Residential Address :  C-28,Basant Vihar Colony C.S.A.U. Kanpur-208002. Phone : +91-9560408505. I hereby declare to bear the responsibility for the correctness of the information given. in this resume..  Place:                                                                                                              Signature.    Mayank Singh.  Date:',\n",
       " 'Alice Clark  . AI / Machine Learning  .  . Delhi, India Em ail me on Indeed  . • 20+ y ears of experience in data han dling, design , and development  . • Data Wa rehou se: Data analysis , star /snow fla ke scema data modelling  and design specific to . data warehousing  and business intelligence  . • Database: Experience in database designing, scalability, back -up and recovery, writing and  . optimizing SQL code and Stored Procedures, creating functions, views, triggers and indexes.  . Cloud platform: Worked on Microsoft Azure cloud services like Document DB, SQL Azure, . Stream  Analytics, Event hub, Power BI, Web Job, Web App, Power BI, Azure data lake . analytics(U -SQL)  . Willing to relocate anywhere  .  . WORK EXPERIE NCE . Software Engineer  . Microsoft – Bangalore,  Karnataka  . January  2000 to Present  . 1. Microsoft Rewards Live dashboards:  . Description: - Microsoft rewards is loyalty program that rewards Users for browsing and shopping  . online. Microsoft Rewards members can earn points when searching with Bing, browsing with  . Microsoft Edge and making purchases at the Xbox Store, the Windows St ore and the Microsoft  . Store. Plus, user can pick up bonus points for taking daily quizzes and tours on the Microsoft  . rewards website. Rewards live dashboards gives a live picture of usage world -wide and by  . markets like US, Canada, Australia, new user regis tration count, top/bottom performing rewards  . offers, orders stats and weekly trends of user activities, orders and new user registrations. the  . PBI tiles gets refreshed in different frequencies starting from 5 seconds to 30 minutes.  . Technology/Tools used  .  . EDUCATI ON . Indian Inst itute o f Technolo gy – Mumbai  . 2001  .  . SKILLS  . Machine Learning, Natural  Language  Processing, and Big Data Handling  .  ADDITIONAL INFO RMATION  . Professional Skills  . • Excellent analytical, problem solving, communication, knowledge transfer and interpersonal  . skills with ability to interact with individuals at all the levels  . • Quick learner and maintains cordial relationship with project mana ger and team members and  . good performer both in team and independent job environments  . • Positive attitude towards superiors &amp; peers  . • Supervised junior developers throughout project lifecycle and provided technical assistance  ',\n",
       " 'Phan Thi Bich Ngoc Curriculum Vitae. PERSONAL DETAILS. Birth January 25, 2001. Address 127/25/11 Co Giang, Phu Nhuan, TP Ho Chi Minh. Phone 0347297090. Mail Ptbichngoc2502@gmail.com. Github https://github.com/ngoc2502. EDUCATION. Bachelor of Computer Science 2019-2023. University of Science. Learn the computer science foundation knowledge such as programing languages, database,. data structure and algorithm, math, Computer vision, Machine learning, AI, Recognition. SKILLS. Framework/Libraries. OpenCV, Numpy, Pytorch, OpenGL. Language. C/C++, Python, C#, SQL. Soft Skills. Teamwork, Presentation, English (Upper Intermediate). PROJECTS. April 2022 Plant Pathology Recognition. Select and install the type of neural network to solve the problem.. Using CNN, Res-net. June 2022 Build Painting Website. Draw Cyclograph for design patterns. Using Canvas, Javascript. October. 2022-. currentFace Recognition. Face Recognition system. Using Python,OpenCv, JS, canvas, Flask APIACTIVITIES. 2019 Guide students from Japan to visit the school in the student exchange. program - VNUHCMUS. 2019 Organize the cultural festival, coordinate with the student union at. VNUHCMUS. 2020,2021 Review Knowledge For The Final Test HoChiMinh Communist. Youth Union of the Class 19CTT4.More than 100 students participated. May 2021 Webhackathon 2021 - VNUHCMUIT - WebDev Studios. Work as a Front-end Dev to develop a solutions for online learning. during the covid pandemic.. HONORS & AWARDS. 2nd Place. WinnerWebhackathon 2021 Issued by VNUHCMUIT - WebDev Studios ·. May 202. CERTIFICATE/ONLINE COURSES. Google Developer Group VietNam 2020. Qu´ anQuˆ anGCP. Coursera 2022. English for Career Development. Course taught at UC Berkeley and online 2022. Full Stack Deep Learning. Overview of the current state of ML field. Made with ML 2022. Basic MLOps. Learn how to apply ML to build a production grade product and deliver value. Detailed. guide on the various steps a project goes through in its life cycle. It contains templates, code. samples, and suggestions for technologies to use.',\n",
       " 'KHA-VI. NGUYEN. FreelancerHo Chi Minh City, Vietnam. /ne 0374246292. /♀nedn linkedin.com/in/nguyenkhavi nguyenkhavi01032001@gmail.com.  gitlab.com/nguyenkhavi. ABOUT ME. A software developer with 1+ year of experience designing, developing, and implementing applications.. Looking for a freelance job that will help me contribute to its development while concurrently helping me develop experience. and hands-on technical expertise.. I’m open to work remotely as part-time position with 4h per day (outside of office hours) or days at the weekend.. EXPERIENCE. 7/2021 – 5/2022. full-time remoteJr. React Native Developer VStation App Project (https:/ /vsports.app.link/). Work as part of the development team (10 - 12 people) to develop features for mobile app.. Work with modern tools including Trello, Figma, Gitlab, etc.. Performed unit tests as part of daily work.. React Native /Teamwork /Problem Solving. 12/2020 – 6/2021. part-timeFresher ReactJS Developer VStation Web Project (https:/ /vsports.com.vn/). Build some admin features included user, league, team, media page management.. Enhanced the experience for UI/UX design for management, coding skills.. Improve soft skills like communicating with co-workers, problem-solving as well as time manage-. ment.. ReactJS /NextJS /HTML /CSS /Time Management /Teamwork. ACTIVITIES. May 2021 Webhackathon 2021 VNUHCMUIT - WebDev Studios (http:/ /webdevstudios.org/). Work as a Full-Stack Dev of the team (4 people) to develop a solutions for online learning during the. covid pandemic.. NextJS /NodeJS /Teamwork /Problem Solving. 2021 Review Knowledge For The Final Test HoChiMinh Communist Youth Union of the Class 19CTT4. Prepare slides, documents to help classmate review the knowledge to get the better result in the. final test.. More than 50 students participated. Communication /Summarization /Teamwork. EXTRA SKILLS. Development Basic Back-End Development. NodeJS /RESTful API /MongoBD /MySQL /Redis /SocketIO. Patterns & Practices. Object-Oriented Programming /Functional Programming. Source Version Control. Git /Gitlab. Foundation Foundation. Programing Languages /OS/DSA /AI/NLP /Computer Networking. EDUCATION. 2019 – 2023 Bachelor of Computer Science (Current GPA: 8.3) VNUHCM - University of Science. Learn the computer science foundation knowledge such as programing languages, data structure. and algorithm, AI, natural language processing, operating system, etc.... LANGUAGES. Vietnamese - Native. English - Upper IntermediateHONORS & AWARDS. 2nd Place Winner - Webhackathon 2021. Issued by VNUHCMUIT - WebDev Studios ·May 2021',\n",
       " 'Michael Smith . BI / Big Data/ Azure  . Manchester , UK- Email me on Indeed:  indeed.com/r/ falicent/140749dace5dc26f  .  . 10+ years of Experience in Designing, Development, Administration, Analysis, . Management inthe Business Intelligence Da ta warehousing, Client Server . Technologies, Web -based Applications, cloud solutions and Databases.  . Data warehouse: Data analysis, star/ snow flake schema data modeling and design . specific todata warehousing and business intelligence environment.  . Database: Experience in database designing, scalability, back -up and recovery, . writing andoptimizing SQL code and Stored Procedures, creating functions, views, . triggers and indexes.  . Cloud platform: Worked on Microsoft Azure cloud services like Document DB, SQL . Azure, StreamAnalytics, Event hub, Power BI, Web Job, Web App, Power BI, Azure . data lake analytics(U -SQL). . Big Data: Worked Azure data lake store/analytics for big data processing and Azure . data factoryto schedule U -SQL jobs. Designed and developed end to end big data . solution for data insights.  .  . Willing to relocate: Anywhere  . WORK EXPERIENCE Software Engineer  . Microsoft - Manchester , UK. . December 2015 to Pre sent . 1. Microsoft Rewards Live dashboards:  . Description: - Microsoft rewards is loyalty program that rewards Users for . browsing and shopping online. Microsoft Rewards members can earn points when . searching with Bing, browsing with Microsoft Edge and making purchases at the . Xbox Store, the Windows St ore and the Microsoft Store. Plus, user can pick up . bonus points for taking daily quizzes and tours on the Microsoft rewards website. . Rewards live dashboards gives a live picture of usage world -wide and by markets . like US, Canada, Australia, new user regis tration count, top/bottom performing . rewards offers, orders stats and weekly trends of user activities, orders and new . user registrations. the PBI tiles gets refreshed in different frequencies starting . from 5 seconds to 30 minutes.  . Technology/Tools used  . Event hub, stream analytics and Power BI.  . Responsibilities  . Created stream analytics jobs to process event hub data  . Created Power BI live dashboard to show live usage traffic, weekly trends, cards, . charts to showtop/bottom 10 offers and usage metrics.  . 2. Microsoft Rewards Data Insights:  . Description: - Microsoft rewards is loyalty program that rewards Users for . browsing and shopping online. Microsoft Rewards members can earn points when . searching with Bing, browsing with Microsoft Edge and making purchases at t he . Xbox Store, the Windows Store and the Microsoft Store. Plus, user can pick up . bonus points for taking daily quizzes and tours on the Microsoft rewards website. . Rewards data insights is data analytics and reporting platform, processes 20 . million users da ily activities and redemption across different markets like US, . Canada, Australia.  . Technology/Tools used  . Cosmos (Microsoft big -data platform), c#, X -flow job monitoring, Power BI.  . Responsibilities  Created big data scripts in cosmos  . C# data extractors, proc essors and reducers for data transformation  . Power BI dashboards  . 3. End to end tracking Tool:  . Description: - This is real -time Tracking tool to track different business . transactions like order, order response, functional acknowledgement, invoice . flowing ins ide ICOE. It gives flexibility to customers to track their transactions . and appropriate error information in -case of any failure. Based on resource based . access control the tool gives flexibility to end user to perform different actions . like view transacti ons, search based on different filter criteria and view and . download actual message payload. End to end tracking tool stitches all the . business transaction like order to cash flow and connects different hops inside . ICOE like gateway, routing server, Proces sing server. It also connects different . systems like ICOE, partner end point and SAP.  . Technology/Tools used  . Azure Document db, Azure web job and Web APP, RBAC, Angular JS.  . Responsibilities  . Document dB stored procedures.  . Web job to process event hub data and populate Document db• Web App API.  . Stream analytics job to transform data  . Power BI reports  . 4. Biztrack Tracking Tool:  . Description: - This is real -time Tracking tool to track different business . transactions like order, order response, functional acknowledgement, invoice . flowing inside ICOE. It gives flexibility to customers to track their transactions . and appropriate error  information in -case of any failure. Based on resource based . access control the tool gives flexibility to end user to perform different actions . like view transactions, search based on different filter criteria and view and . download actual message payload.  . Technology/Tools used  . SQL server 2014, SSIS, .net API, Angular JS.  . Responsibilities  . ETL solution to transform business transactions data stored in Biztalk tables.  . SQL azure tables, stored procedures, User defined functions.  . Performance tuning.  . Web API enha ncements.  .  . EDUCATION  . The University of Manchester  - UK . 2007 .  . SKILLS . problem solving (Less than 1 year), project lifecycle (Less than 1 year), project . manager (Less than 1 year), technical assistance. (Less than 1 year)  . ADDITIONAL INFORMATION  . Professiona l Skills  . Excellent analytical, problem solving, communication, knowledge transfer and . interpersonalskills with ability to interact with individuals at all the levels  . Quick learner and maintains cordial relationship with project manager and team . members and good performer both in team and independent job environments  . Positive attitude towards superiors &amp; peers  Supervised junior developers throughout project lifecycle and provided technical . assistance.  ']"
      ]
     },
     "execution_count": 31,
     "metadata": {},
     "output_type": "execute_result"
    }
   ],
   "source": [
    "path_CV=\"./static/files_CV/\"\n",
    "path_2_pdfCV=get_path_pdf(path_CV)\n",
    "content_CV=[]\n",
    "for p in path_2_pdfCV:\n",
    "    content_CV.append(extract_pdf(p))\n",
    "content_CV"
   ]
  },
  {
   "cell_type": "markdown",
   "metadata": {},
   "source": [
    "Using Spacy to extract skill"
   ]
  },
  {
   "cell_type": "code",
   "execution_count": 6,
   "metadata": {},
   "outputs": [],
   "source": [
    "from spacy.pipeline import EntityRuler\n",
    "from spacy import displacy\n",
    "import jsonlines\n",
    "import spacy\n",
    "import re \n",
    "import pyperclip\n",
    "from sympy import true"
   ]
  },
  {
   "cell_type": "code",
   "execution_count": 7,
   "metadata": {},
   "outputs": [],
   "source": [
    "json_path=\"skill_paterns.jsonl\"\n",
    "\n",
    "with jsonlines.open(json_path) as f:\n",
    "    entities=[line[\"label\"].upper() for line in f.iter()]\n",
    "\n",
    "# spacy model\n",
    "nlp=spacy.load(\"en_core_web_lg\")"
   ]
  },
  {
   "cell_type": "code",
   "execution_count": 8,
   "metadata": {},
   "outputs": [
    {
     "data": {
      "text/plain": [
       "<spacy.pipeline.entityruler.EntityRuler at 0x1fbcab49400>"
      ]
     },
     "execution_count": 8,
     "metadata": {},
     "output_type": "execute_result"
    }
   ],
   "source": [
    "ruler = nlp.add_pipe(\"entity_ruler\")\n",
    "ruler.from_disk(json_path)"
   ]
  },
  {
   "cell_type": "code",
   "execution_count": null,
   "metadata": {},
   "outputs": [],
   "source": [
    "doc=nlp(content_CV[0])\n"
   ]
  },
  {
   "cell_type": "code",
   "execution_count": 10,
   "metadata": {},
   "outputs": [],
   "source": [
    "for sent in (list(doc.sents)):\n",
    "    tmp=sent.text.split(\" \")\n",
    "    for wolrd in tmp:\n",
    "        wolrd=wolrd.lower()\n",
    "        if(wolrd=='experience'):\n",
    "            print(sent)\n",
    "            print('===')"
   ]
  },
  {
   "cell_type": "markdown",
   "metadata": {},
   "source": [
    "PERSONAL INFORMATION"
   ]
  },
  {
   "cell_type": "code",
   "execution_count": 11,
   "metadata": {},
   "outputs": [],
   "source": [
    "\n",
    "def get_skill(content_CV):\n",
    "    doc=nlp(content_CV)\n",
    "    skill_list=[]\n",
    "    for ent in doc.ents:\n",
    "        if ent.label_=='SKILL':\n",
    "            skill_list.append(ent.text)\n",
    "    skill_list=list(set(skill_list))\n",
    "    return skill_list\n",
    "\n",
    "def get_GPA(content_CV):\n",
    "    doc=nlp(content_CV)\n",
    "    sent=list(doc.sents)\n",
    "    gpa=''\n",
    "    for s in sent:\n",
    "        s=s.text\n",
    "        if s.find('GPA') !=-1 :\n",
    "            gba_pos= s.find('GPA') \n",
    "            for i in range (gba_pos+3,gba_pos+8):\n",
    "                if (s[i] >'0' and s[i]<'9' or s[i]=='.'):\n",
    "                    gpa+=s[i]\n",
    "    if gpa=='':\n",
    "        return None\n",
    "    else:\n",
    "        return gpa\n",
    "\n",
    "def get_experience(content_CV):\n",
    "    '''\n",
    "    Return\\n\n",
    "        None if no experience\\n\n",
    "        List of experience if exist\n",
    "    '''\n",
    "    doc=nlp(content_CV)\n",
    "    sent=list(doc.sents)\n",
    "    final_res=''\n",
    "    ex=[]\n",
    "    for s in sent:\n",
    "        s_text=s.text.split(' ')\n",
    "        flag=False\n",
    "        for i in s_text:\n",
    "            i=i.lower()\n",
    "            if i=='experience':\n",
    "                flag=True\n",
    "        if flag==True:\n",
    "            ex.append([s.text])\n",
    "    if (len(ex)==0):\n",
    "        final_res=None\n",
    "    else:\n",
    "        final_res=ex\n",
    "    return final_res\n",
    "\n",
    "def get_education(content_CV):\n",
    "    doc=nlp(content_CV)\n",
    "    sent=list(doc.sents)\n",
    "    edu=''\n",
    "    pos_edu=-1\n",
    "    pos_edu_end=-1\n",
    "    for s in sent:\n",
    "        s_text=s.text.lower()\n",
    "        flag=False\n",
    "        if s_text.find('education')!=-1 or s_text.find('university')!=-1 or s_text.find('academic')!=-1 or s_text.find('bachelor ')!=-1:\n",
    "            edu =s.text\n",
    "            if s_text.find('education')!=-1 :\n",
    "                pos_edu=s_text.find('education')+9\n",
    "            if s_text.find('academic') !=-1 :\n",
    "                pos_edu=s_text.find('academic')\n",
    "            if s_text.find('university') !=-1 :\n",
    "                pos_edu=s_text.find('university')\n",
    "            else:\n",
    "                pos_edu=s_text.find('bachelor ')\n",
    "            \n",
    "            pos_edu_end=s_text.find('. ',pos_edu)\n",
    "            edu=edu[pos_edu:pos_edu_end]\n",
    "    if edu=='':\n",
    "        return None\n",
    "    else:\n",
    "        return edu\n",
    "\n",
    "def get_phone(content_CV):\n",
    "    '''\n",
    "    Format for Phone-Numbers:\n",
    "    134567890\n",
    "    123-456-7890\n",
    "    (123)(456)(7890)\n",
    "    123.456.7890\n",
    "    (123)(456-7890)\n",
    "    '''\n",
    "    phone= re.compile(r'''\n",
    "        (\\d{3}|\\(\\d{3}\\))    \n",
    "        (\\s|-|\\.)?           \n",
    "        (\\d{3}|\\(\\d{3}\\))    \n",
    "        (\\s|-|\\.)?           \n",
    "        (\\d{4}|\\(\\d{4}\\))    \n",
    "    ''', re.VERBOSE) \n",
    "\n",
    "    matchs=phone.finditer(content_CV)\n",
    "    res = ''\n",
    "    for match in matchs:\n",
    "        res+=match.group(0)\n",
    "    if res=='':\n",
    "        return None\n",
    "    else:\n",
    "        return res\n",
    "\n",
    "def get_link(link,content_CV):\n",
    "    matchs=link.finditer(content_CV)\n",
    "    res=''\n",
    "    for match in matchs:\n",
    "        res+=match.group(0)\n",
    "    if res=='':\n",
    "        return None\n",
    "    else:\n",
    "        return res"
   ]
  },
  {
   "cell_type": "markdown",
   "metadata": {},
   "source": [
    "NAME"
   ]
  },
  {
   "cell_type": "code",
   "execution_count": 12,
   "metadata": {},
   "outputs": [],
   "source": [
    "from spacy.tokens import Span\n",
    "import dateparser\n",
    "def expand_person_entities(doc):\n",
    "    new_ents = []\n",
    "    for ent in doc.ents:\n",
    "        # Only check for title if it's a person and not the first token\n",
    "        if ent.label_ == \"PERSON\":\n",
    "            if ent.start != 0:\n",
    "                # if person preceded by title, include title in entity\n",
    "                prev_token = doc[ent.start - 1]\n",
    "                if prev_token.text in (\"Dr\", \"Dr.\", \"Mr\", \"Mr.\", \"Ms\", \"Ms.\"):\n",
    "                    new_ent = Span(doc, ent.start - 1, ent.end, label=ent.label)\n",
    "                    new_ents.append(new_ent)\n",
    "                else:\n",
    "                    # if entity can be parsed as a date, it's not a person\n",
    "                    if dateparser.parse(ent.text) is None:\n",
    "                        new_ents.append(ent) \n",
    "        else:\n",
    "            new_ents.append(ent)\n",
    "    doc.ents = new_ents\n",
    "    return doc\n",
    "\n",
    "# Add the component after the named entity recognizer\n",
    "# # nlp.remove_pipe('expand_person_entities')\n",
    "# @Language.component(\"expand_person_entities\")\n",
    "# nlp.add_pipe(\"expand_person_entities\", after='ner')\n",
    "\n",
    "# doc = nlp(content_CV[0])\n",
    "# [(ent.text, ent.label_) for ent in doc.ents if ent.label_=='PERSON']"
   ]
  },
  {
   "cell_type": "code",
   "execution_count": 50,
   "metadata": {},
   "outputs": [
    {
     "data": {
      "text/plain": [
       "'FreelancerHo Chi'"
      ]
     },
     "execution_count": 50,
     "metadata": {},
     "output_type": "execute_result"
    }
   ],
   "source": [
    "from spacy.matcher import Matcher\n",
    "# initialize matcher with a vocab\n",
    "\n",
    "def extract_name(content_CV):\n",
    "    matcher = Matcher(nlp.vocab)\n",
    "    doc=nlp(content_CV)\n",
    "    error_key=['city','school','university','freelancer','building']\n",
    "    warning_key=['curriculum vita']\n",
    "    cut_pos=-1\n",
    "    for ent in doc.ents:\n",
    "        if ent.label_=='PERSON':\n",
    "            txt=ent.text\n",
    "            txt_lower=txt.lower()\n",
    "            flag=True\n",
    "            for i in error_key:\n",
    "                if i in txt_lower:\n",
    "                    flag=False\n",
    "            for j in warning_key:\n",
    "                if j in txt_lower:\n",
    "                    cut_pos=txt_lower.find(j)\n",
    "                    txt=txt[:cut_pos]\n",
    "            if flag:\n",
    "                return txt\n",
    "            else:\n",
    "                break\n",
    "    # First name and Last name are always Proper Nouns\n",
    "    pattern = [\n",
    "        {'POS': 'PROPN'},{'POS': 'PROPN'},\n",
    "        ]\n",
    "    matcher.add('NAME',[pattern])\n",
    "    matches = matcher(doc)\n",
    "    for match_id, start, end in matches:\n",
    "        span = doc[start:end]\n",
    "        return span.text\n",
    "        \n",
    "    return None\n",
    "\n",
    "extract_name(content_CV[5])\n",
    "\n"
   ]
  },
  {
   "cell_type": "markdown",
   "metadata": {},
   "source": [
    "Check Accuracy of name"
   ]
  },
  {
   "cell_type": "code",
   "execution_count": 14,
   "metadata": {},
   "outputs": [],
   "source": [
    "# train_data = json.load(open('./data/training/train_data.json','rb')) \n",
    "\n",
    "def name_acc(train_data):\n",
    "    list_an=[]\n",
    "    list_txt=[]\n",
    "    name=[]\n",
    "\n",
    "    for text,annotation in train_data:\n",
    "        list_an.append(list(annotation.values()))\n",
    "        list_txt.append(text)\n",
    "\n",
    "    target_name=[]\n",
    "    predic_name=[]\n",
    "\n",
    "    similar=0\n",
    "    for i in range(len(list_an)):\n",
    "        t=''\n",
    "        p=''\n",
    "        p=extract_name(list_txt[i])\n",
    "        predic_name.append(p)\n",
    "        for j in range(len(list_an[i][0])):\n",
    "            if list_an[i][0][j][2]=='Name':\n",
    "                t=list_txt[i][list_an[i][0][j][0]:list_an[i][0][j][1]]\n",
    "                target_name.append(t)\n",
    "        if t==p:\n",
    "            similar+=1\n",
    "    return (similar/len(list_an)*100)    \n",
    "# name_acc(train_data)"
   ]
  },
  {
   "cell_type": "markdown",
   "metadata": {},
   "source": [
    "Load accuracy name"
   ]
  },
  {
   "cell_type": "code",
   "execution_count": 15,
   "metadata": {},
   "outputs": [],
   "source": [
    "nlp_model=spacy.load('nlp_model')"
   ]
  },
  {
   "cell_type": "markdown",
   "metadata": {},
   "source": [
    "Using sklearn to calculate the cosine similarity score of CV and JD"
   ]
  },
  {
   "cell_type": "code",
   "execution_count": 16,
   "metadata": {},
   "outputs": [],
   "source": [
    "from sklearn.feature_extraction.text import CountVectorizer\n",
    "from sklearn.metrics.pairwise import cosine_similarity"
   ]
  },
  {
   "cell_type": "markdown",
   "metadata": {},
   "source": [
    "Cleaning data"
   ]
  },
  {
   "cell_type": "code",
   "execution_count": null,
   "metadata": {},
   "outputs": [],
   "source": []
  },
  {
   "cell_type": "code",
   "execution_count": 17,
   "metadata": {},
   "outputs": [],
   "source": [
    "def cosine_similar(list_CV,JD):\n",
    "    df_rank_match=pd.DataFrame(columns=['ID','Percent_Match_JD'])\n",
    "    for i in range(len(list_CV)):\n",
    "        test=[list_CV[i],JD]\n",
    "        cv = CountVectorizer()\n",
    "        count_matrix= cv.fit_transform(test)\n",
    "        match=cosine_similarity(count_matrix)        \n",
    "        row = {\n",
    "            'ID':i,\n",
    "            'Percent_Match_JD': round(match[0][1]*100,2)\n",
    "        }\n",
    "        new_df=pd.DataFrame([row])\n",
    "        df_rank_match=pd.concat([df_rank_match,new_df],axis=0,ignore_index=True)\n",
    "    return df_rank_match \n",
    "    "
   ]
  },
  {
   "cell_type": "markdown",
   "metadata": {},
   "source": [
    "Final extract and save to dataframe"
   ]
  },
  {
   "cell_type": "code",
   "execution_count": 18,
   "metadata": {},
   "outputs": [
    {
     "data": {
      "text/html": [
       "<div>\n",
       "<style scoped>\n",
       "    .dataframe tbody tr th:only-of-type {\n",
       "        vertical-align: middle;\n",
       "    }\n",
       "\n",
       "    .dataframe tbody tr th {\n",
       "        vertical-align: top;\n",
       "    }\n",
       "\n",
       "    .dataframe thead th {\n",
       "        text-align: right;\n",
       "    }\n",
       "</style>\n",
       "<table border=\"1\" class=\"dataframe\">\n",
       "  <thead>\n",
       "    <tr style=\"text-align: right;\">\n",
       "      <th></th>\n",
       "      <th>ID</th>\n",
       "      <th>Name</th>\n",
       "      <th>Email</th>\n",
       "      <th>Phone_Number</th>\n",
       "      <th>Related_Link</th>\n",
       "      <th>Skill</th>\n",
       "      <th>Experience</th>\n",
       "      <th>Education</th>\n",
       "      <th>GPA</th>\n",
       "      <th>Percent_Match_JD</th>\n",
       "    </tr>\n",
       "  </thead>\n",
       "  <tbody>\n",
       "    <tr>\n",
       "      <th>1</th>\n",
       "      <td>1</td>\n",
       "      <td>Arockia Juslin Deepan</td>\n",
       "      <td>deepaneee2010@gmail.com</td>\n",
       "      <td>9715580583</td>\n",
       "      <td>[None, None, None]</td>\n",
       "      <td>[electrical engineering, engineering, Business...</td>\n",
       "      <td>[[o7+ years of experience as Electrical Engine...</td>\n",
       "      <td>University, India(August 2006-April 2010)</td>\n",
       "      <td>None</td>\n",
       "      <td>55.55</td>\n",
       "    </tr>\n",
       "    <tr>\n",
       "      <th>0</th>\n",
       "      <td>0</td>\n",
       "      <td>Ayush Pandey</td>\n",
       "      <td>None</td>\n",
       "      <td>8765599273811503125387655992738765599273876559...</td>\n",
       "      <td>[None, None, None]</td>\n",
       "      <td>[component, Documentation, Languages, mode, de...</td>\n",
       "      <td>None</td>\n",
       "      <td>Bachelor in Mechanical Engineering, Seth Srini...</td>\n",
       "      <td>None</td>\n",
       "      <td>52.84</td>\n",
       "    </tr>\n",
       "    <tr>\n",
       "      <th>3</th>\n",
       "      <td>3</td>\n",
       "      <td>Alice Clark</td>\n",
       "      <td>None</td>\n",
       "      <td>None</td>\n",
       "      <td>[None, None, None]</td>\n",
       "      <td>[Data analysis, Database, SQL, Web App, Window...</td>\n",
       "      <td>[[• 20+ y ears of experience in data han dling...</td>\n",
       "      <td>None</td>\n",
       "      <td>None</td>\n",
       "      <td>49.16</td>\n",
       "    </tr>\n",
       "    <tr>\n",
       "      <th>6</th>\n",
       "      <td>6</td>\n",
       "      <td>Michael Smith</td>\n",
       "      <td>None</td>\n",
       "      <td>None</td>\n",
       "      <td>[None, None, None]</td>\n",
       "      <td>[server, Database, data modeling, Windows, sca...</td>\n",
       "      <td>[[10+ years of Experience in Designing, Develo...</td>\n",
       "      <td>University of Manchester  - UK</td>\n",
       "      <td>None</td>\n",
       "      <td>46.94</td>\n",
       "    </tr>\n",
       "    <tr>\n",
       "      <th>4</th>\n",
       "      <td>4</td>\n",
       "      <td>Phan Thi Bich Ngoc Curriculum Vitae</td>\n",
       "      <td>Ptbichngoc2502@gmail.com</td>\n",
       "      <td>0347297090</td>\n",
       "      <td>[github.com/ngoc2502., None, None]</td>\n",
       "      <td>[ML, Computer vision, Computer Science, CERTIF...</td>\n",
       "      <td>None</td>\n",
       "      <td>University of Science</td>\n",
       "      <td>None</td>\n",
       "      <td>45.17</td>\n",
       "    </tr>\n",
       "    <tr>\n",
       "      <th>2</th>\n",
       "      <td>2</td>\n",
       "      <td>Mayank Singh</td>\n",
       "      <td>mayanksingh759@gmail.com</td>\n",
       "      <td>95604085059560408505</td>\n",
       "      <td>[None, None, None]</td>\n",
       "      <td>[SQL, C, visual studio, Operating system, corr...</td>\n",
       "      <td>None</td>\n",
       "      <td>None</td>\n",
       "      <td>.</td>\n",
       "      <td>44.99</td>\n",
       "    </tr>\n",
       "    <tr>\n",
       "      <th>5</th>\n",
       "      <td>5</td>\n",
       "      <td>Chi Minh City</td>\n",
       "      <td>nguyenkhavi01032001@gmail.com</td>\n",
       "      <td>0374246292</td>\n",
       "      <td>[gitlab.com/nguyenkhavi., None, linkedin.com/i...</td>\n",
       "      <td>[API, algorithm, computer science, React Nativ...</td>\n",
       "      <td>[[A software developer with 1+ year of experie...</td>\n",
       "      <td>University of Science</td>\n",
       "      <td>8.3</td>\n",
       "      <td>44.07</td>\n",
       "    </tr>\n",
       "  </tbody>\n",
       "</table>\n",
       "</div>"
      ],
      "text/plain": [
       "  ID                                 Name                          Email  \\\n",
       "1  1                Arockia Juslin Deepan        deepaneee2010@gmail.com   \n",
       "0  0                         Ayush Pandey                           None   \n",
       "3  3                          Alice Clark                           None   \n",
       "6  6                        Michael Smith                           None   \n",
       "4  4  Phan Thi Bich Ngoc Curriculum Vitae       Ptbichngoc2502@gmail.com   \n",
       "2  2                         Mayank Singh       mayanksingh759@gmail.com   \n",
       "5  5                        Chi Minh City  nguyenkhavi01032001@gmail.com   \n",
       "\n",
       "                                        Phone_Number  \\\n",
       "1                                         9715580583   \n",
       "0  8765599273811503125387655992738765599273876559...   \n",
       "3                                               None   \n",
       "6                                               None   \n",
       "4                                         0347297090   \n",
       "2                               95604085059560408505   \n",
       "5                                         0374246292   \n",
       "\n",
       "                                        Related_Link  \\\n",
       "1                                 [None, None, None]   \n",
       "0                                 [None, None, None]   \n",
       "3                                 [None, None, None]   \n",
       "6                                 [None, None, None]   \n",
       "4                 [github.com/ngoc2502., None, None]   \n",
       "2                                 [None, None, None]   \n",
       "5  [gitlab.com/nguyenkhavi., None, linkedin.com/i...   \n",
       "\n",
       "                                               Skill  \\\n",
       "1  [electrical engineering, engineering, Business...   \n",
       "0  [component, Documentation, Languages, mode, de...   \n",
       "3  [Data analysis, Database, SQL, Web App, Window...   \n",
       "6  [server, Database, data modeling, Windows, sca...   \n",
       "4  [ML, Computer vision, Computer Science, CERTIF...   \n",
       "2  [SQL, C, visual studio, Operating system, corr...   \n",
       "5  [API, algorithm, computer science, React Nativ...   \n",
       "\n",
       "                                          Experience  \\\n",
       "1  [[o7+ years of experience as Electrical Engine...   \n",
       "0                                               None   \n",
       "3  [[• 20+ y ears of experience in data han dling...   \n",
       "6  [[10+ years of Experience in Designing, Develo...   \n",
       "4                                               None   \n",
       "2                                               None   \n",
       "5  [[A software developer with 1+ year of experie...   \n",
       "\n",
       "                                           Education   GPA  Percent_Match_JD  \n",
       "1          University, India(August 2006-April 2010)  None             55.55  \n",
       "0  Bachelor in Mechanical Engineering, Seth Srini...  None             52.84  \n",
       "3                                               None  None             49.16  \n",
       "6                    University of Manchester  - UK   None             46.94  \n",
       "4                              University of Science  None             45.17  \n",
       "2                                               None     .             44.99  \n",
       "5                              University of Science   8.3             44.07  "
      ]
     },
     "execution_count": 18,
     "metadata": {},
     "output_type": "execute_result"
    }
   ],
   "source": [
    "def extract_all_data(list_content_CV,content_JD):\n",
    "    df_match=cosine_similar(list_content_CV,content_JD)\n",
    "    extract_df_match=df_match[\"Percent_Match_JD\"]\n",
    "\n",
    "    label=['ID','Name','Email','Phone_Number','Related_Link','Skill','Experience','Education','GPA']\n",
    "\n",
    "    df_information = pd.DataFrame(columns=label) \n",
    "    # bitbucket\n",
    "    mail = re.compile(r'[a-zA-Z0-9-\\.]+@[a-zA-Z-\\.]*\\.(com|edu|net|vn)')\n",
    "    \n",
    "    git = re.compile(r'(gitlab.com/|github.com/)+[a-zA-Z0-9-\\.]*')\n",
    "    web = re.compile(r'(http://|https:// )+[a-zA-Z0-9-\"/\"-\\.]*')\n",
    "    linkedin = re.compile(r'linkedin.com/+[a-zA-Z0-9-\"/\"-\\.]*')\n",
    "\n",
    "    for i in range(len(list_content_CV)):\n",
    "        content=list_content_CV[i]\n",
    "        link=[]\n",
    "        link.append(get_link(git,content))\n",
    "        link.append(get_link(web,content))\n",
    "        link.append(get_link(linkedin,content))\n",
    "        \n",
    "        row={\n",
    "                'ID':i,\n",
    "                'Name':extract_name(content),\n",
    "                'Email':get_link(mail,content),\n",
    "                'Phone_Number':get_phone(content),\n",
    "                'Related_Link':link,\n",
    "                'Skill':get_skill(content),\n",
    "                'Experience':get_experience(content),\n",
    "                'Education':get_education(content),\n",
    "                'GPA':get_GPA(content)\n",
    "            }\n",
    "        new_df=pd.DataFrame([row])\n",
    "        df_information=pd.concat([df_information,new_df],axis=0,ignore_index=True)\n",
    "    df_information=df_information.join(extract_df_match)\n",
    "    df_information=df_information.sort_values(by='Percent_Match_JD', ascending=False)\n",
    "    return df_information\n",
    "\n",
    "\n",
    "# list_CV=[]\n",
    "# count=0\n",
    "# train_data = json.load(open('./data/training/train_data.json','rb')) \n",
    "\n",
    "# for text,annotation in train_data:\n",
    "#     count+=1\n",
    "#     list_CV.append(text)\n",
    "#     if count==50:\n",
    "#         break\n",
    "\n",
    "df_detail=extract_all_data(content_CV,content_JD)\n",
    "df_detail"
   ]
  }
 ],
 "metadata": {
  "kernelspec": {
   "display_name": "Python 3.9.13 64-bit (microsoft store)",
   "language": "python",
   "name": "python3"
  },
  "language_info": {
   "codemirror_mode": {
    "name": "ipython",
    "version": 3
   },
   "file_extension": ".py",
   "mimetype": "text/x-python",
   "name": "python",
   "nbconvert_exporter": "python",
   "pygments_lexer": "ipython3",
   "version": "3.9.13"
  },
  "orig_nbformat": 4,
  "vscode": {
   "interpreter": {
    "hash": "231b793e72510f63263cf75731d759da8776d8c74c3ed2dbefa0f0827e58fa6e"
   }
  }
 },
 "nbformat": 4,
 "nbformat_minor": 2
}
