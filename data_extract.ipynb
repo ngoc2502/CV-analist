{
 "cells": [
  {
   "cell_type": "code",
   "execution_count": 2,
   "metadata": {},
   "outputs": [],
   "source": [
    "from PyPDF2 import PdfFileReader\n",
    "import os\n",
    "import json"
   ]
  },
  {
   "cell_type": "markdown",
   "metadata": {},
   "source": [
    "Extract information from pdf file"
   ]
  },
  {
   "cell_type": "code",
   "execution_count": 2,
   "metadata": {},
   "outputs": [],
   "source": [
    "def extract_pdf(path):\n",
    "    pdf=PdfFileReader(path)\n",
    "    number_pages=pdf.getNumPages()\n",
    "    content=''\n",
    "    for i in range(number_pages):\n",
    "        content+=pdf.getPage(i).extractText()\n",
    "    \n",
    "    content=content.replace('\\\\n',' ').replace('\\n\\n',' ')\n",
    "    content=content.replace('\\n',' ')\n",
    "    content=content.replace('\\t',' ')\n",
    "    \n",
    "    return content"
   ]
  },
  {
   "cell_type": "markdown",
   "metadata": {},
   "source": [
    "Get path to each pdf file stored in folder  "
   ]
  },
  {
   "cell_type": "code",
   "execution_count": 3,
   "metadata": {},
   "outputs": [],
   "source": [
    "\n",
    "def get_path_pdf(path_folder):\n",
    "    path_pdf=[]\n",
    "    for dirname,_,filenames in os.walk(path_folder):\n",
    "        for filename in filenames:\n",
    "            path_pdf.append(os.path.join(dirname,filename))\n",
    "    return path_pdf\n"
   ]
  },
  {
   "cell_type": "markdown",
   "metadata": {},
   "source": [
    "Read JD"
   ]
  },
  {
   "cell_type": "code",
   "execution_count": 4,
   "metadata": {},
   "outputs": [],
   "source": [
    "path_JD=\"./JD/\"\n",
    "path_2_pdfJD=get_path_pdf(path_JD)\n",
    "content_JD=extract_pdf(path_2_pdfJD[0])\n"
   ]
  },
  {
   "cell_type": "markdown",
   "metadata": {},
   "source": [
    "Read CV"
   ]
  },
  {
   "cell_type": "code",
   "execution_count": 5,
   "metadata": {},
   "outputs": [],
   "source": [
    "path_CV=\"./CV/\"\n",
    "path_2_pdfCV=get_path_pdf(path_CV)\n",
    "content_CV=[]\n",
    "for p in path_2_pdfCV:\n",
    "    content_CV.append(extract_pdf(p))\n"
   ]
  },
  {
   "cell_type": "markdown",
   "metadata": {},
   "source": [
    "Using Spacy to extract skill"
   ]
  },
  {
   "cell_type": "code",
   "execution_count": 6,
   "metadata": {},
   "outputs": [],
   "source": [
    "from spacy.pipeline import EntityRuler\n",
    "from spacy import displacy\n",
    "import jsonlines\n",
    "import spacy\n",
    "import re \n",
    "import pyperclip"
   ]
  },
  {
   "cell_type": "code",
   "execution_count": 7,
   "metadata": {},
   "outputs": [],
   "source": [
    "json_path=\"skill_paterns.jsonl\"\n",
    "\n",
    "with jsonlines.open(json_path) as f:\n",
    "    entities=[line[\"label\"].upper() for line in f.iter()]\n",
    "\n",
    "# spacy model\n",
    "nlp=spacy.load(\"en_core_web_lg\")"
   ]
  },
  {
   "cell_type": "code",
   "execution_count": 8,
   "metadata": {},
   "outputs": [
    {
     "data": {
      "text/plain": [
       "['tok2vec',\n",
       " 'tagger',\n",
       " 'parser',\n",
       " 'attribute_ruler',\n",
       " 'lemmatizer',\n",
       " 'ner',\n",
       " 'entity_ruler']"
      ]
     },
     "execution_count": 8,
     "metadata": {},
     "output_type": "execute_result"
    }
   ],
   "source": [
    "ruler = nlp.add_pipe(\"entity_ruler\")\n",
    "ruler.from_disk(json_path)\n",
    "nlp.pipe_names"
   ]
  },
  {
   "cell_type": "code",
   "execution_count": 9,
   "metadata": {},
   "outputs": [
    {
     "data": {
      "text/plain": [
       "['Computer vision',\n",
       " 'computer science',\n",
       " 'Python',\n",
       " 'OpenGL',\n",
       " 'CERTIFICATE',\n",
       " 'ML',\n",
       " 'Google',\n",
       " 'OpenCV',\n",
       " 'database',\n",
       " 'Deep Learning',\n",
       " 'languages',\n",
       " 'SQL',\n",
       " 'data structure',\n",
       " 'Computer Science',\n",
       " 'algorithm',\n",
       " 'Numpy',\n",
       " 'C',\n",
       " 'C++',\n",
       " 'design']"
      ]
     },
     "execution_count": 9,
     "metadata": {},
     "output_type": "execute_result"
    }
   ],
   "source": [
    "doc=nlp(content_CV[0])\n",
    "\n",
    "def get_skill(doc):\n",
    "    skill_list=[]\n",
    "    for ent in doc.ents:\n",
    "        if ent.label_=='SKILL':\n",
    "            skill_list.append(ent.text)\n",
    "    skill_list=list(set(skill_list))\n",
    "    return skill_list\n",
    "    \n",
    "get_skill(doc) "
   ]
  },
  {
   "cell_type": "markdown",
   "metadata": {},
   "source": [
    "Read Personal infomation"
   ]
  },
  {
   "cell_type": "markdown",
   "metadata": {},
   "source": [
    "Experience"
   ]
  },
  {
   "cell_type": "code",
   "execution_count": 49,
   "metadata": {},
   "outputs": [
    {
     "name": "stdout",
     "output_type": "stream",
     "text": [
      "7.5\n",
      "None\n",
      "\n"
     ]
    },
    {
     "data": {
      "text/plain": [
       "'Bachelor of Computer Science (Current GPA: 7.5/10) 2019-2023 University of Science Learn the computer science foundation knowledge such as programing languages, database, data structure and algorithm, math, Computer vision, Machine learning, AI, Recognition SKILLS Framework/Libraries OpenCV, Numpy, Pytorch, OpenGL Language C/C++, Python, C#, SQL Soft Skills Teamwork, Presentation, English (Upper Intermediate) PROJECTS March 2022MNIST'"
      ]
     },
     "execution_count": 49,
     "metadata": {},
     "output_type": "execute_result"
    }
   ],
   "source": [
    "from sympy import true\n",
    "\n",
    "\n",
    "doc=nlp(content_CV[0])\n",
    "\n",
    "def get_GPA(doc):\n",
    "    sent=list(doc.sents)\n",
    "    gpa=''\n",
    "    for s in sent:\n",
    "        s=s.text\n",
    "        if s.find('GPA') !=-1 :\n",
    "            gba_pos= s.find('GPA') \n",
    "            for i in range (gba_pos+3,gba_pos+8):\n",
    "                if (s[i] >'0' and s[i]<'9' or s[i]=='.'):\n",
    "                    gpa+=s[i]\n",
    "    return gpa\n",
    "\n",
    "def get_experience(doc):\n",
    "    '''\n",
    "    Return\\n\n",
    "        None if no experience\\n\n",
    "        List of experience if exist\n",
    "    '''\n",
    "    sent=list(doc.sents)\n",
    "    final_res=''\n",
    "    ex=[]\n",
    "    for s in sent:\n",
    "        s_text=s.text.split(' ')\n",
    "        flag=False\n",
    "        for i in s_text:\n",
    "            i=i.lower()\n",
    "            if i=='experience':\n",
    "                flag=True\n",
    "        if flag==True:\n",
    "            ex.append([s.text])\n",
    "    if (len(ex)==0):\n",
    "        final_res=None\n",
    "    else:\n",
    "        final_res=ex\n",
    "    return final_res\n",
    "\n",
    "def get_education(doc):\n",
    "    sent=list(doc.sents)\n",
    "    edu=''\n",
    "    pos_edu=-1\n",
    "    for s in sent:\n",
    "        s_text=s.text.lower()\n",
    "        flag=False\n",
    "        if s_text.find('education')!=-1 or s_text.find('university')!=-1:\n",
    "            edu =s.text\n",
    "            if s_text.find('education')!=-1:\n",
    "                pos_edu=s_text.find('education')\n",
    "            else:\n",
    "                pos_edu=s_text.find('university')\n",
    "            \n",
    "            edu=edu[pos_edu+10:]\n",
    "    return edu\n",
    "\n",
    "print(get_GPA(doc))       \n",
    "print(get_experience(doc))\n",
    "print()\n",
    "print(get_education(doc))\n",
    "     "
   ]
  },
  {
   "cell_type": "markdown",
   "metadata": {},
   "source": [
    "PERSONAL INFORMATION"
   ]
  },
  {
   "cell_type": "code",
   "execution_count": 11,
   "metadata": {},
   "outputs": [
    {
     "name": "stdout",
     "output_type": "stream",
     "text": [
      "\n",
      "\n",
      "linkedin.com/in/bich-ngoc-0ab1831b3\n",
      "Ptbichngoc2502@gmail.com\n"
     ]
    },
    {
     "data": {
      "text/plain": [
       "'0347297090'"
      ]
     },
     "execution_count": 11,
     "metadata": {},
     "output_type": "execute_result"
    }
   ],
   "source": [
    "test = content_CV[0]\n",
    "mail = re.compile(r'[a-zA-Z0-9-\\.]+@[a-zA-Z-\\.]*\\.(com|edu|net)')\n",
    "git = re.compile(r'(gitlab.com/|github.com/)+[a-zA-Z0-9-\\.]*')\n",
    "web = re.compile(r'(http://|https:// )+[a-zA-Z0-9-\"/\"-\\.]*')\n",
    "linkedin = re.compile(r'linkedin.com/+[a-zA-Z0-9-\"/\"-\\.]*')\n",
    "\n",
    "def get_phone():\n",
    "    '''\n",
    "    Format for Phone-Numbers:\n",
    "    134567890\n",
    "    123-456-7890\n",
    "    (123)(456)(7890)\n",
    "    123.456.7890\n",
    "    (123)(456-7890)\n",
    "    '''\n",
    "    phone= re.compile(r'''\n",
    "        (\\d{3}|\\(\\d{3}\\))    \n",
    "        (\\s|-|\\.)?           \n",
    "        (\\d{3}|\\(\\d{3}\\))    \n",
    "        (\\s|-|\\.)?           \n",
    "        (\\d{4}|\\(\\d{4}\\))    \n",
    "    ''', re.VERBOSE) \n",
    "    \n",
    "    matchs=phone.finditer(test)\n",
    "    res = ''\n",
    "    for match in matchs:\n",
    "        res+=match.group(0)\n",
    "    return res\n",
    "\n",
    "def get_link(link):\n",
    "    matchs=link.finditer(test)\n",
    "    res=''\n",
    "    for match in matchs:\n",
    "        res+=match.group(0)\n",
    "    return res\n",
    "\n",
    "print(get_link(web))\n",
    "print(get_link(git))\n",
    "print(get_link(linkedin))\n",
    "print(get_link(mail))\n",
    "get_phone()"
   ]
  },
  {
   "cell_type": "markdown",
   "metadata": {},
   "source": [
    "NAME"
   ]
  },
  {
   "cell_type": "code",
   "execution_count": 12,
   "metadata": {},
   "outputs": [
    {
     "data": {
      "text/plain": [
       "'Phan Thi'"
      ]
     },
     "execution_count": 12,
     "metadata": {},
     "output_type": "execute_result"
    }
   ],
   "source": [
    "from spacy.matcher import Matcher\n",
    "# initialize matcher with a vocab\n",
    "matcher = Matcher(nlp.vocab)\n",
    "def extract_name(content_CV):\n",
    "    doc=nlp(content_CV)\n",
    "    # First name and Last name are always Proper Nouns\n",
    "    pattern = [{'POS': 'PROPN'}, {'POS': 'PROPN'}]\n",
    "    matcher.add('NAME',[pattern])\n",
    "    matches = matcher(doc)\n",
    "    for match_id, start, end in matches:\n",
    "        span = doc[start:end]\n",
    "        return span.text\n",
    "\n",
    "extract_name(content_CV[0])"
   ]
  },
  {
   "cell_type": "code",
   "execution_count": 13,
   "metadata": {},
   "outputs": [],
   "source": [
    "nlp_model=spacy.load('nlp_model')"
   ]
  },
  {
   "cell_type": "code",
   "execution_count": 19,
   "metadata": {},
   "outputs": [
    {
     "name": "stdout",
     "output_type": "stream",
     "text": [
      "PERSON                        -Phan Thi Bich Ngoc Curriculum\n"
     ]
    }
   ],
   "source": [
    "for ent in doc.ents:\n",
    "    if ent.label_=='PERSON':\n",
    "        print(f'{ent.label_.upper():{30}}-{ent.text}')\n",
    "    break\n"
   ]
  },
  {
   "cell_type": "markdown",
   "metadata": {},
   "source": [
    "Check Accuracy of name"
   ]
  },
  {
   "cell_type": "code",
   "execution_count": 8,
   "metadata": {},
   "outputs": [
    {
     "name": "stdout",
     "output_type": "stream",
     "text": [
      "[0, 12, 'Name']\n",
      "[0, 18, 'Name']\n",
      "[0, 15, 'Name']\n",
      "[0, 15, 'Name']\n",
      "[0, 16, 'Name']\n",
      "[0, 11, 'Name']\n",
      "[0, 13, 'Name']\n",
      "[0, 19, 'Name']\n",
      "[0, 14, 'Name']\n",
      "[0, 10, 'Name']\n",
      "[0, 13, 'Name']\n",
      "[0, 15, 'Name']\n",
      "[0, 9, 'Name']\n",
      "[0, 8, 'Name']\n",
      "[0, 18, 'Name']\n",
      "[0, 15, 'Name']\n",
      "[0, 13, 'Name']\n",
      "[0, 20, 'Name']\n",
      "[0, 18, 'Name']\n",
      "[0, 14, 'Name']\n",
      "[0, 16, 'Name']\n",
      "[0, 12, 'Name']\n",
      "[0, 14, 'Name']\n",
      "[0, 13, 'Name']\n",
      "[0, 13, 'Name']\n",
      "[0, 12, 'Name']\n",
      "[0, 10, 'Name']\n",
      "[0, 21, 'Name']\n",
      "[0, 11, 'Name']\n",
      "[0, 12, 'Name']\n",
      "[0, 20, 'Name']\n",
      "[0, 8, 'Name']\n",
      "[0, 10, 'Name']\n",
      "[0, 16, 'Name']\n",
      "[0, 16, 'Name']\n",
      "[0, 10, 'Name']\n",
      "[0, 11, 'Name']\n",
      "[0, 13, 'Name']\n",
      "[0, 12, 'Name']\n",
      "[0, 11, 'Name']\n",
      "[0, 12, 'Name']\n",
      "[0, 14, 'Name']\n",
      "[0, 9, 'Name']\n",
      "[0, 8, 'Name']\n",
      "[0, 10, 'Name']\n",
      "[0, 12, 'Name']\n",
      "[0, 13, 'Name']\n",
      "[0, 13, 'Name']\n",
      "[0, 12, 'Name']\n",
      "[0, 8, 'Name']\n",
      "[0, 9, 'Name']\n",
      "[0, 21, 'Name']\n",
      "[0, 12, 'Name']\n",
      "[0, 20, 'Name']\n",
      "[0, 13, 'Name']\n",
      "[0, 14, 'Name']\n",
      "[0, 13, 'Name']\n",
      "[0, 12, 'Name']\n",
      "[0, 14, 'Name']\n",
      "[0, 11, 'Name']\n",
      "[0, 16, 'Name']\n",
      "[0, 16, 'Name']\n",
      "[0, 14, 'Name']\n",
      "[0, 21, 'Name']\n",
      "[0, 13, 'Name']\n",
      "[0, 12, 'Name']\n",
      "[13, 25, 'Name']\n",
      "[0, 12, 'Name']\n",
      "[0, 14, 'Name']\n",
      "[0, 11, 'Name']\n",
      "[0, 11, 'Name']\n",
      "[0, 15, 'Name']\n",
      "[0, 14, 'Name']\n",
      "[0, 12, 'Name']\n",
      "[0, 13, 'Name']\n",
      "[0, 14, 'Name']\n",
      "[0, 14, 'Name']\n",
      "[0, 13, 'Name']\n",
      "[0, 15, 'Name']\n",
      "[6310, 6336, 'Name']\n",
      "[0, 26, 'Name']\n",
      "[0, 11, 'Name']\n",
      "[0, 25, 'Name']\n",
      "[0, 14, 'Name']\n",
      "[0, 11, 'Name']\n",
      "[0, 14, 'Name']\n",
      "[0, 15, 'Name']\n",
      "[0, 9, 'Name']\n",
      "[0, 13, 'Name']\n",
      "[0, 11, 'Name']\n",
      "[3375, 3390, 'Name']\n",
      "[0, 15, 'Name']\n",
      "[0, 14, 'Name']\n",
      "[0, 12, 'Name']\n",
      "[0, 12, 'Name']\n",
      "[0, 7, 'Name']\n",
      "[0, 10, 'Name']\n",
      "[0, 14, 'Name']\n",
      "[0, 13, 'Name']\n",
      "[0, 12, 'Name']\n",
      "[0, 15, 'Name']\n",
      "[0, 20, 'Name']\n",
      "[0, 19, 'Name']\n",
      "[0, 15, 'Name']\n",
      "[0, 13, 'Name']\n",
      "[0, 20, 'Name']\n",
      "[0, 11, 'Name']\n",
      "[0, 10, 'Name']\n",
      "[0, 20, 'Name']\n",
      "[0, 12, 'Name']\n",
      "[0, 12, 'Name']\n",
      "[0, 15, 'Name']\n",
      "[0, 17, 'Name']\n",
      "[0, 15, 'Name']\n",
      "[0, 11, 'Name']\n",
      "[0, 16, 'Name']\n",
      "[0, 15, 'Name']\n",
      "[0, 23, 'Name']\n",
      "[0, 18, 'Name']\n",
      "[0, 14, 'Name']\n",
      "[0, 14, 'Name']\n",
      "[0, 12, 'Name']\n",
      "[16, 31, 'Name']\n",
      "[0, 15, 'Name']\n",
      "[1860, 1871, 'Name']\n",
      "[0, 12, 'Name']\n",
      "[0, 12, 'Name']\n",
      "[0, 10, 'Name']\n",
      "[0, 12, 'Name']\n",
      "[0, 12, 'Name']\n",
      "[0, 14, 'Name']\n",
      "[0, 11, 'Name']\n",
      "[0, 16, 'Name']\n",
      "[0, 8, 'Name']\n",
      "[0, 7, 'Name']\n",
      "[0, 14, 'Name']\n",
      "[0, 17, 'Name']\n",
      "[0, 13, 'Name']\n",
      "[0, 6, 'Name']\n",
      "[0, 12, 'Name']\n",
      "[0, 13, 'Name']\n",
      "[0, 17, 'Name']\n",
      "[0, 13, 'Name']\n",
      "[0, 15, 'Name']\n",
      "[0, 14, 'Name']\n",
      "[0, 15, 'Name']\n",
      "[0, 13, 'Name']\n",
      "[0, 12, 'Name']\n",
      "[0, 9, 'Name']\n",
      "[0, 14, 'Name']\n",
      "[0, 15, 'Name']\n",
      "[0, 12, 'Name']\n",
      "[0, 17, 'Name']\n",
      "[0, 15, 'Name']\n",
      "[0, 13, 'Name']\n",
      "[0, 15, 'Name']\n",
      "[0, 15, 'Name']\n",
      "[0, 17, 'Name']\n",
      "[0, 9, 'Name']\n",
      "[0, 12, 'Name']\n",
      "[0, 14, 'Name']\n",
      "[0, 14, 'Name']\n",
      "[0, 14, 'Name']\n",
      "[0, 12, 'Name']\n",
      "[0, 15, 'Name']\n",
      "[0, 16, 'Name']\n",
      "[0, 17, 'Name']\n",
      "[0, 10, 'Name']\n",
      "[0, 8, 'Name']\n",
      "[0, 19, 'Name']\n",
      "[0, 21, 'Name']\n",
      "[0, 13, 'Name']\n",
      "[0, 14, 'Name']\n",
      "[0, 11, 'Name']\n",
      "[0, 11, 'Name']\n",
      "[0, 15, 'Name']\n",
      "[0, 14, 'Name']\n",
      "[0, 14, 'Name']\n",
      "[0, 9, 'Name']\n",
      "[0, 9, 'Name']\n",
      "[0, 13, 'Name']\n",
      "[0, 10, 'Name']\n",
      "[0, 14, 'Name']\n",
      "[0, 11, 'Name']\n",
      "[0, 21, 'Name']\n",
      "[0, 13, 'Name']\n",
      "[0, 12, 'Name']\n",
      "[0, 12, 'Name']\n",
      "[0, 11, 'Name']\n",
      "[0, 14, 'Name']\n",
      "[0, 15, 'Name']\n",
      "[0, 17, 'Name']\n",
      "[0, 14, 'Name']\n",
      "[0, 13, 'Name']\n",
      "[500, 509, 'Name']\n",
      "[0, 9, 'Name']\n",
      "[0, 13, 'Name']\n",
      "[0, 13, 'Name']\n",
      "[0, 13, 'Name']\n",
      "[0, 12, 'Name']\n",
      "[0, 12, 'Name']\n",
      "[0, 10, 'Name']\n",
      "[0, 19, 'Name']\n",
      "[0, 21, 'Name']\n",
      "[0, 13, 'Name']\n"
     ]
    }
   ],
   "source": [
    "train_data = json.load(open('./data/training/train_data.json','rb')) \n",
    "list_an=[]\n",
    "list_txt=[]\n",
    "\n",
    "for text,annotation in train_data:\n",
    "    list_an.append(list(annotation.values()))\n",
    "    list_txt.append([text])\n",
    "\n",
    "name=[]\n",
    "for i in range(len(list_an)):\n",
    "    for j in range(len(list_an[i][0])):\n",
    "        if list_an[i][0][j][2] == 'Name':\n",
    "            print(list_an[i][0][j])\n",
    "\n"
   ]
  },
  {
   "cell_type": "markdown",
   "metadata": {},
   "source": [
    "Using sklearn to calculate the cosine similarity score of CV and JD"
   ]
  },
  {
   "cell_type": "code",
   "execution_count": 50,
   "metadata": {},
   "outputs": [],
   "source": [
    "from sklearn.feature_extraction.text import CountVectorizer\n",
    "from sklearn.metrics.pairwise import cosine_similarity"
   ]
  },
  {
   "cell_type": "code",
   "execution_count": null,
   "metadata": {},
   "outputs": [],
   "source": [
    "cv=CountVectorizer()\n",
    "test=[content_CV[2],content_JD]\n",
    "count_matrix=cv.fit_transform(test)\n",
    "cosine_similarity(count_matrix)"
   ]
  },
  {
   "cell_type": "code",
   "execution_count": null,
   "metadata": {},
   "outputs": [
    {
     "data": {
      "text/plain": [
       "<2x314 sparse matrix of type '<class 'numpy.int64'>'\n",
       "\twith 340 stored elements in Compressed Sparse Row format>"
      ]
     },
     "execution_count": 50,
     "metadata": {},
     "output_type": "execute_result"
    }
   ],
   "source": [
    "count_matrix"
   ]
  }
 ],
 "metadata": {
  "kernelspec": {
   "display_name": "Python 3.9.13 64-bit (microsoft store)",
   "language": "python",
   "name": "python3"
  },
  "language_info": {
   "codemirror_mode": {
    "name": "ipython",
    "version": 3
   },
   "file_extension": ".py",
   "mimetype": "text/x-python",
   "name": "python",
   "nbconvert_exporter": "python",
   "pygments_lexer": "ipython3",
   "version": "3.9.13"
  },
  "orig_nbformat": 4,
  "vscode": {
   "interpreter": {
    "hash": "231b793e72510f63263cf75731d759da8776d8c74c3ed2dbefa0f0827e58fa6e"
   }
  }
 },
 "nbformat": 4,
 "nbformat_minor": 2
}
